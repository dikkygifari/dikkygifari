{
 "cells": [
  {
   "cell_type": "code",
   "execution_count": 25,
   "metadata": {},
   "outputs": [],
   "source": [
    "import pandas as pd\n",
    "import numpy as np\n",
    "import matplotlib.pyplot as plt\n",
    "import seaborn as sns\n",
    "import scipy.stats as sc\n",
    "import warnings\n",
    "from scipy.stats import kstest\n",
    "warnings.filterwarnings(\"ignore\")\n",
    "%matplotlib inline"
   ]
  },
  {
   "cell_type": "code",
   "execution_count": 10,
   "metadata": {
    "scrolled": true
   },
   "outputs": [
    {
     "data": {
      "text/html": [
       "<div>\n",
       "<style scoped>\n",
       "    .dataframe tbody tr th:only-of-type {\n",
       "        vertical-align: middle;\n",
       "    }\n",
       "\n",
       "    .dataframe tbody tr th {\n",
       "        vertical-align: top;\n",
       "    }\n",
       "\n",
       "    .dataframe thead th {\n",
       "        text-align: right;\n",
       "    }\n",
       "</style>\n",
       "<table border=\"1\" class=\"dataframe\">\n",
       "  <thead>\n",
       "    <tr style=\"text-align: right;\">\n",
       "      <th></th>\n",
       "      <th>Overall rank</th>\n",
       "      <th>Country or region</th>\n",
       "      <th>Score</th>\n",
       "      <th>GDP per capita</th>\n",
       "      <th>Social support</th>\n",
       "      <th>Healthy life expectancy</th>\n",
       "      <th>Freedom to make life choices</th>\n",
       "      <th>Generosity</th>\n",
       "      <th>Perceptions of corruption</th>\n",
       "    </tr>\n",
       "  </thead>\n",
       "  <tbody>\n",
       "    <tr>\n",
       "      <th>0</th>\n",
       "      <td>1</td>\n",
       "      <td>Finland</td>\n",
       "      <td>7.769</td>\n",
       "      <td>1.340</td>\n",
       "      <td>1.587</td>\n",
       "      <td>0.986</td>\n",
       "      <td>0.596</td>\n",
       "      <td>0.153</td>\n",
       "      <td>0.393</td>\n",
       "    </tr>\n",
       "    <tr>\n",
       "      <th>1</th>\n",
       "      <td>2</td>\n",
       "      <td>Denmark</td>\n",
       "      <td>7.600</td>\n",
       "      <td>1.383</td>\n",
       "      <td>1.573</td>\n",
       "      <td>0.996</td>\n",
       "      <td>0.592</td>\n",
       "      <td>0.252</td>\n",
       "      <td>0.410</td>\n",
       "    </tr>\n",
       "    <tr>\n",
       "      <th>2</th>\n",
       "      <td>3</td>\n",
       "      <td>Norway</td>\n",
       "      <td>7.554</td>\n",
       "      <td>1.488</td>\n",
       "      <td>1.582</td>\n",
       "      <td>1.028</td>\n",
       "      <td>0.603</td>\n",
       "      <td>0.271</td>\n",
       "      <td>0.341</td>\n",
       "    </tr>\n",
       "    <tr>\n",
       "      <th>3</th>\n",
       "      <td>4</td>\n",
       "      <td>Iceland</td>\n",
       "      <td>7.494</td>\n",
       "      <td>1.380</td>\n",
       "      <td>1.624</td>\n",
       "      <td>1.026</td>\n",
       "      <td>0.591</td>\n",
       "      <td>0.354</td>\n",
       "      <td>0.118</td>\n",
       "    </tr>\n",
       "    <tr>\n",
       "      <th>4</th>\n",
       "      <td>5</td>\n",
       "      <td>Netherlands</td>\n",
       "      <td>7.488</td>\n",
       "      <td>1.396</td>\n",
       "      <td>1.522</td>\n",
       "      <td>0.999</td>\n",
       "      <td>0.557</td>\n",
       "      <td>0.322</td>\n",
       "      <td>0.298</td>\n",
       "    </tr>\n",
       "    <tr>\n",
       "      <th>...</th>\n",
       "      <td>...</td>\n",
       "      <td>...</td>\n",
       "      <td>...</td>\n",
       "      <td>...</td>\n",
       "      <td>...</td>\n",
       "      <td>...</td>\n",
       "      <td>...</td>\n",
       "      <td>...</td>\n",
       "      <td>...</td>\n",
       "    </tr>\n",
       "    <tr>\n",
       "      <th>151</th>\n",
       "      <td>152</td>\n",
       "      <td>Rwanda</td>\n",
       "      <td>3.334</td>\n",
       "      <td>0.359</td>\n",
       "      <td>0.711</td>\n",
       "      <td>0.614</td>\n",
       "      <td>0.555</td>\n",
       "      <td>0.217</td>\n",
       "      <td>0.411</td>\n",
       "    </tr>\n",
       "    <tr>\n",
       "      <th>152</th>\n",
       "      <td>153</td>\n",
       "      <td>Tanzania</td>\n",
       "      <td>3.231</td>\n",
       "      <td>0.476</td>\n",
       "      <td>0.885</td>\n",
       "      <td>0.499</td>\n",
       "      <td>0.417</td>\n",
       "      <td>0.276</td>\n",
       "      <td>0.147</td>\n",
       "    </tr>\n",
       "    <tr>\n",
       "      <th>153</th>\n",
       "      <td>154</td>\n",
       "      <td>Afghanistan</td>\n",
       "      <td>3.203</td>\n",
       "      <td>0.350</td>\n",
       "      <td>0.517</td>\n",
       "      <td>0.361</td>\n",
       "      <td>0.000</td>\n",
       "      <td>0.158</td>\n",
       "      <td>0.025</td>\n",
       "    </tr>\n",
       "    <tr>\n",
       "      <th>154</th>\n",
       "      <td>155</td>\n",
       "      <td>Central African Republic</td>\n",
       "      <td>3.083</td>\n",
       "      <td>0.026</td>\n",
       "      <td>0.000</td>\n",
       "      <td>0.105</td>\n",
       "      <td>0.225</td>\n",
       "      <td>0.235</td>\n",
       "      <td>0.035</td>\n",
       "    </tr>\n",
       "    <tr>\n",
       "      <th>155</th>\n",
       "      <td>156</td>\n",
       "      <td>South Sudan</td>\n",
       "      <td>2.853</td>\n",
       "      <td>0.306</td>\n",
       "      <td>0.575</td>\n",
       "      <td>0.295</td>\n",
       "      <td>0.010</td>\n",
       "      <td>0.202</td>\n",
       "      <td>0.091</td>\n",
       "    </tr>\n",
       "  </tbody>\n",
       "</table>\n",
       "<p>156 rows × 9 columns</p>\n",
       "</div>"
      ],
      "text/plain": [
       "     Overall rank         Country or region  Score  GDP per capita  \\\n",
       "0               1                   Finland  7.769           1.340   \n",
       "1               2                   Denmark  7.600           1.383   \n",
       "2               3                    Norway  7.554           1.488   \n",
       "3               4                   Iceland  7.494           1.380   \n",
       "4               5               Netherlands  7.488           1.396   \n",
       "..            ...                       ...    ...             ...   \n",
       "151           152                    Rwanda  3.334           0.359   \n",
       "152           153                  Tanzania  3.231           0.476   \n",
       "153           154               Afghanistan  3.203           0.350   \n",
       "154           155  Central African Republic  3.083           0.026   \n",
       "155           156               South Sudan  2.853           0.306   \n",
       "\n",
       "     Social support  Healthy life expectancy  Freedom to make life choices  \\\n",
       "0             1.587                    0.986                         0.596   \n",
       "1             1.573                    0.996                         0.592   \n",
       "2             1.582                    1.028                         0.603   \n",
       "3             1.624                    1.026                         0.591   \n",
       "4             1.522                    0.999                         0.557   \n",
       "..              ...                      ...                           ...   \n",
       "151           0.711                    0.614                         0.555   \n",
       "152           0.885                    0.499                         0.417   \n",
       "153           0.517                    0.361                         0.000   \n",
       "154           0.000                    0.105                         0.225   \n",
       "155           0.575                    0.295                         0.010   \n",
       "\n",
       "     Generosity  Perceptions of corruption  \n",
       "0         0.153                      0.393  \n",
       "1         0.252                      0.410  \n",
       "2         0.271                      0.341  \n",
       "3         0.354                      0.118  \n",
       "4         0.322                      0.298  \n",
       "..          ...                        ...  \n",
       "151       0.217                      0.411  \n",
       "152       0.276                      0.147  \n",
       "153       0.158                      0.025  \n",
       "154       0.235                      0.035  \n",
       "155       0.202                      0.091  \n",
       "\n",
       "[156 rows x 9 columns]"
      ]
     },
     "execution_count": 10,
     "metadata": {},
     "output_type": "execute_result"
    }
   ],
   "source": [
    "df = pd.read_csv('2019.csv')\n",
    "df"
   ]
  },
  {
   "cell_type": "markdown",
   "metadata": {},
   "source": [
    "## NOMOR 1"
   ]
  },
  {
   "cell_type": "code",
   "execution_count": 12,
   "metadata": {
    "scrolled": true
   },
   "outputs": [
    {
     "data": {
      "text/plain": [
       "Generosity                   0.184846\n",
       "Perceptions of corruption    0.110603\n",
       "dtype: float64"
      ]
     },
     "execution_count": 12,
     "metadata": {},
     "output_type": "execute_result"
    }
   ],
   "source": [
    "df[['Generosity','Perceptions of corruption']].mean()"
   ]
  },
  {
   "cell_type": "code",
   "execution_count": 13,
   "metadata": {},
   "outputs": [
    {
     "data": {
      "text/plain": [
       "Generosity                   0.1775\n",
       "Perceptions of corruption    0.0855\n",
       "dtype: float64"
      ]
     },
     "execution_count": 13,
     "metadata": {},
     "output_type": "execute_result"
    }
   ],
   "source": [
    "df[['Generosity','Perceptions of corruption']].median()"
   ]
  },
  {
   "cell_type": "code",
   "execution_count": 14,
   "metadata": {},
   "outputs": [
    {
     "data": {
      "text/html": [
       "<div>\n",
       "<style scoped>\n",
       "    .dataframe tbody tr th:only-of-type {\n",
       "        vertical-align: middle;\n",
       "    }\n",
       "\n",
       "    .dataframe tbody tr th {\n",
       "        vertical-align: top;\n",
       "    }\n",
       "\n",
       "    .dataframe thead th {\n",
       "        text-align: right;\n",
       "    }\n",
       "</style>\n",
       "<table border=\"1\" class=\"dataframe\">\n",
       "  <thead>\n",
       "    <tr style=\"text-align: right;\">\n",
       "      <th></th>\n",
       "      <th>Generosity</th>\n",
       "      <th>Perceptions of corruption</th>\n",
       "    </tr>\n",
       "  </thead>\n",
       "  <tbody>\n",
       "    <tr>\n",
       "      <th>0</th>\n",
       "      <td>0.153</td>\n",
       "      <td>0.028</td>\n",
       "    </tr>\n",
       "    <tr>\n",
       "      <th>1</th>\n",
       "      <td>NaN</td>\n",
       "      <td>0.078</td>\n",
       "    </tr>\n",
       "    <tr>\n",
       "      <th>2</th>\n",
       "      <td>NaN</td>\n",
       "      <td>0.089</td>\n",
       "    </tr>\n",
       "  </tbody>\n",
       "</table>\n",
       "</div>"
      ],
      "text/plain": [
       "   Generosity  Perceptions of corruption\n",
       "0       0.153                      0.028\n",
       "1         NaN                      0.078\n",
       "2         NaN                      0.089"
      ]
     },
     "execution_count": 14,
     "metadata": {},
     "output_type": "execute_result"
    }
   ],
   "source": [
    "df[['Generosity','Perceptions of corruption']].mode()"
   ]
  },
  {
   "cell_type": "code",
   "execution_count": 15,
   "metadata": {},
   "outputs": [
    {
     "data": {
      "text/plain": [
       "Generosity                   0.009073\n",
       "Perceptions of corruption    0.008937\n",
       "dtype: float64"
      ]
     },
     "execution_count": 15,
     "metadata": {},
     "output_type": "execute_result"
    }
   ],
   "source": [
    "df[['Generosity','Perceptions of corruption']].var()"
   ]
  },
  {
   "cell_type": "code",
   "execution_count": 16,
   "metadata": {},
   "outputs": [
    {
     "data": {
      "text/plain": [
       "Generosity                   0.095254\n",
       "Perceptions of corruption    0.094538\n",
       "dtype: float64"
      ]
     },
     "execution_count": 16,
     "metadata": {},
     "output_type": "execute_result"
    }
   ],
   "source": [
    "df[['Generosity','Perceptions of corruption']].std()"
   ]
  },
  {
   "cell_type": "code",
   "execution_count": 17,
   "metadata": {
    "scrolled": true
   },
   "outputs": [
    {
     "data": {
      "text/plain": [
       "Generosity                   0.745942\n",
       "Perceptions of corruption    1.650410\n",
       "dtype: float64"
      ]
     },
     "execution_count": 17,
     "metadata": {},
     "output_type": "execute_result"
    }
   ],
   "source": [
    "df[['Generosity','Perceptions of corruption']].skew()"
   ]
  },
  {
   "cell_type": "markdown",
   "metadata": {},
   "source": [
    "## NOMOR 2"
   ]
  },
  {
   "cell_type": "code",
   "execution_count": 37,
   "metadata": {
    "scrolled": true
   },
   "outputs": [
    {
     "data": {
      "text/plain": [
       "Text(0.5, 1.0, 'Distribution by Social support')"
      ]
     },
     "execution_count": 37,
     "metadata": {},
     "output_type": "execute_result"
    },
    {
     "data": {
      "image/png": "[encoded data removed]",
      "text/plain": [
       "<Figure size 576x576 with 1 Axes>"
      ]
     },
     "metadata": {
      "needs_background": "light"
     },
     "output_type": "display_data"
    }
   ],
   "source": [
    "plt.figure(figsize = (8, 8))\n",
    "sns.distplot(df['Social support'])\n",
    "plt.title('Distribution by Social support')"
   ]
  },
  {
   "cell_type": "code",
   "execution_count": 18,
   "metadata": {},
   "outputs": [],
   "source": [
    "ot25 = df['Social support'].quantile(0.25)\n",
    "ot75 = df['Social support'].quantile(0.75)\n",
    "iqr = ot75 - ot25\n",
    "below = ot25 - 1.5 * iqr\n",
    "above = ot75 + 1.5 * iqr"
   ]
  },
  {
   "cell_type": "code",
   "execution_count": 19,
   "metadata": {},
   "outputs": [
    {
     "data": {
      "text/plain": [
       "(1.05575, 1.4525, 0.39674999999999994, 0.46062500000000006, 2.047625)"
      ]
     },
     "execution_count": 19,
     "metadata": {},
     "output_type": "execute_result"
    }
   ],
   "source": [
    "ot25, ot75, iqr, below, above"
   ]
  },
  {
   "cell_type": "code",
   "execution_count": 21,
   "metadata": {
    "scrolled": true
   },
   "outputs": [
    {
     "data": {
      "text/html": [
       "<div>\n",
       "<style scoped>\n",
       "    .dataframe tbody tr th:only-of-type {\n",
       "        vertical-align: middle;\n",
       "    }\n",
       "\n",
       "    .dataframe tbody tr th {\n",
       "        vertical-align: top;\n",
       "    }\n",
       "\n",
       "    .dataframe thead th {\n",
       "        text-align: right;\n",
       "    }\n",
       "</style>\n",
       "<table border=\"1\" class=\"dataframe\">\n",
       "  <thead>\n",
       "    <tr style=\"text-align: right;\">\n",
       "      <th></th>\n",
       "      <th>Overall rank</th>\n",
       "      <th>Country or region</th>\n",
       "      <th>Score</th>\n",
       "      <th>GDP per capita</th>\n",
       "      <th>Social support</th>\n",
       "      <th>Healthy life expectancy</th>\n",
       "      <th>Freedom to make life choices</th>\n",
       "      <th>Generosity</th>\n",
       "      <th>Perceptions of corruption</th>\n",
       "    </tr>\n",
       "  </thead>\n",
       "  <tbody>\n",
       "    <tr>\n",
       "      <th>101</th>\n",
       "      <td>102</td>\n",
       "      <td>Benin</td>\n",
       "      <td>4.883</td>\n",
       "      <td>0.393</td>\n",
       "      <td>0.437</td>\n",
       "      <td>0.397</td>\n",
       "      <td>0.349</td>\n",
       "      <td>0.175</td>\n",
       "      <td>0.082</td>\n",
       "    </tr>\n",
       "    <tr>\n",
       "      <th>144</th>\n",
       "      <td>145</td>\n",
       "      <td>Burundi</td>\n",
       "      <td>3.775</td>\n",
       "      <td>0.046</td>\n",
       "      <td>0.447</td>\n",
       "      <td>0.380</td>\n",
       "      <td>0.220</td>\n",
       "      <td>0.176</td>\n",
       "      <td>0.180</td>\n",
       "    </tr>\n",
       "    <tr>\n",
       "      <th>148</th>\n",
       "      <td>149</td>\n",
       "      <td>Syria</td>\n",
       "      <td>3.462</td>\n",
       "      <td>0.619</td>\n",
       "      <td>0.378</td>\n",
       "      <td>0.440</td>\n",
       "      <td>0.013</td>\n",
       "      <td>0.331</td>\n",
       "      <td>0.141</td>\n",
       "    </tr>\n",
       "    <tr>\n",
       "      <th>154</th>\n",
       "      <td>155</td>\n",
       "      <td>Central African Republic</td>\n",
       "      <td>3.083</td>\n",
       "      <td>0.026</td>\n",
       "      <td>0.000</td>\n",
       "      <td>0.105</td>\n",
       "      <td>0.225</td>\n",
       "      <td>0.235</td>\n",
       "      <td>0.035</td>\n",
       "    </tr>\n",
       "  </tbody>\n",
       "</table>\n",
       "</div>"
      ],
      "text/plain": [
       "     Overall rank         Country or region  Score  GDP per capita  \\\n",
       "101           102                     Benin  4.883           0.393   \n",
       "144           145                   Burundi  3.775           0.046   \n",
       "148           149                     Syria  3.462           0.619   \n",
       "154           155  Central African Republic  3.083           0.026   \n",
       "\n",
       "     Social support  Healthy life expectancy  Freedom to make life choices  \\\n",
       "101           0.437                    0.397                         0.349   \n",
       "144           0.447                    0.380                         0.220   \n",
       "148           0.378                    0.440                         0.013   \n",
       "154           0.000                    0.105                         0.225   \n",
       "\n",
       "     Generosity  Perceptions of corruption  \n",
       "101       0.175                      0.082  \n",
       "144       0.176                      0.180  \n",
       "148       0.331                      0.141  \n",
       "154       0.235                      0.035  "
      ]
     },
     "execution_count": 21,
     "metadata": {},
     "output_type": "execute_result"
    }
   ],
   "source": [
    "outdistance = df[(df['Social support'] < below) | (df['Social support'] > above)]\n",
    "outdistance"
   ]
  },
  {
   "cell_type": "code",
   "execution_count": 22,
   "metadata": {},
   "outputs": [
    {
     "data": {
      "text/plain": [
       "-1.1347276019487067"
      ]
     },
     "execution_count": 22,
     "metadata": {},
     "output_type": "execute_result"
    }
   ],
   "source": [
    "df['Social support'].skew()"
   ]
  },
  {
   "cell_type": "markdown",
   "metadata": {},
   "source": [
    "Semua Outliers yang ada pada Column Social Support itu semua pada 'Below Q3', dan berpengaruh terhadap social support"
   ]
  },
  {
   "cell_type": "markdown",
   "metadata": {},
   "source": [
    "## NOMOR 3"
   ]
  },
  {
   "cell_type": "code",
   "execution_count": 107,
   "metadata": {},
   "outputs": [],
   "source": [
    "?sns.boxplot"
   ]
  },
  {
   "cell_type": "code",
   "execution_count": 23,
   "metadata": {
    "scrolled": true
   },
   "outputs": [
    {
     "data": {
      "text/plain": [
       "Text(0.5, 1.0, 'Checking Outliers')"
      ]
     },
     "execution_count": 23,
     "metadata": {},
     "output_type": "execute_result"
    },
    {
     "data": {
      "image/png": "[encoded data removed]",
      "text/plain": [
       "<Figure size 576x576 with 1 Axes>"
      ]
     },
     "metadata": {
      "needs_background": "light"
     },
     "output_type": "display_data"
    }
   ],
   "source": [
    "plt.figure(figsize = (8, 8))\n",
    "sns.boxplot(df['Freedom to make life choices'])\n",
    "plt.title('Checking Outliers')"
   ]
  },
  {
   "cell_type": "markdown",
   "metadata": {},
   "source": [
    "## NOMOR 4"
   ]
  },
  {
   "cell_type": "code",
   "execution_count": 29,
   "metadata": {},
   "outputs": [
    {
     "data": {
      "text/plain": [
       "True"
      ]
     },
     "execution_count": 29,
     "metadata": {},
     "output_type": "execute_result"
    }
   ],
   "source": [
    "stat3, pval3 = kstest(df['GDP per capita'], 'norm')\n",
    "pval3 < 0.05"
   ]
  },
  {
   "cell_type": "code",
   "execution_count": 30,
   "metadata": {
    "scrolled": true
   },
   "outputs": [
    {
     "data": {
      "text/plain": [
       "True"
      ]
     },
     "execution_count": 30,
     "metadata": {},
     "output_type": "execute_result"
    }
   ],
   "source": [
    "stat3, pval3 = kstest(df['Social support'], 'norm')\n",
    "pval3 < 0.05"
   ]
  },
  {
   "cell_type": "code",
   "execution_count": 31,
   "metadata": {},
   "outputs": [
    {
     "data": {
      "text/plain": [
       "True"
      ]
     },
     "execution_count": 31,
     "metadata": {},
     "output_type": "execute_result"
    }
   ],
   "source": [
    "stat3, pval3 = kstest(df['Score'], 'norm')\n",
    "pval3 < 0.05"
   ]
  },
  {
   "cell_type": "code",
   "execution_count": 33,
   "metadata": {},
   "outputs": [
    {
     "data": {
      "text/plain": [
       "True"
      ]
     },
     "execution_count": 33,
     "metadata": {},
     "output_type": "execute_result"
    }
   ],
   "source": [
    "stat3, pval3 = kstest(df['Healthy life expectancy'], 'norm')\n",
    "pval3 < 0.05"
   ]
  },
  {
   "cell_type": "code",
   "execution_count": 34,
   "metadata": {},
   "outputs": [
    {
     "data": {
      "text/html": [
       "<div>\n",
       "<style scoped>\n",
       "    .dataframe tbody tr th:only-of-type {\n",
       "        vertical-align: middle;\n",
       "    }\n",
       "\n",
       "    .dataframe tbody tr th {\n",
       "        vertical-align: top;\n",
       "    }\n",
       "\n",
       "    .dataframe thead th {\n",
       "        text-align: right;\n",
       "    }\n",
       "</style>\n",
       "<table border=\"1\" class=\"dataframe\">\n",
       "  <thead>\n",
       "    <tr style=\"text-align: right;\">\n",
       "      <th></th>\n",
       "      <th>Overall rank</th>\n",
       "      <th>Score</th>\n",
       "      <th>GDP per capita</th>\n",
       "      <th>Social support</th>\n",
       "      <th>Healthy life expectancy</th>\n",
       "      <th>Freedom to make life choices</th>\n",
       "      <th>Generosity</th>\n",
       "      <th>Perceptions of corruption</th>\n",
       "    </tr>\n",
       "  </thead>\n",
       "  <tbody>\n",
       "    <tr>\n",
       "      <th>Overall rank</th>\n",
       "      <td>1.000000</td>\n",
       "      <td>-0.999999</td>\n",
       "      <td>-0.814430</td>\n",
       "      <td>-0.816125</td>\n",
       "      <td>-0.807279</td>\n",
       "      <td>-0.552014</td>\n",
       "      <td>-0.070484</td>\n",
       "      <td>-0.217240</td>\n",
       "    </tr>\n",
       "    <tr>\n",
       "      <th>Score</th>\n",
       "      <td>-0.999999</td>\n",
       "      <td>1.000000</td>\n",
       "      <td>0.814483</td>\n",
       "      <td>0.816181</td>\n",
       "      <td>0.807275</td>\n",
       "      <td>0.551974</td>\n",
       "      <td>0.070483</td>\n",
       "      <td>0.217348</td>\n",
       "    </tr>\n",
       "    <tr>\n",
       "      <th>GDP per capita</th>\n",
       "      <td>-0.814430</td>\n",
       "      <td>0.814483</td>\n",
       "      <td>1.000000</td>\n",
       "      <td>0.768539</td>\n",
       "      <td>0.851513</td>\n",
       "      <td>0.393426</td>\n",
       "      <td>-0.041304</td>\n",
       "      <td>0.223203</td>\n",
       "    </tr>\n",
       "    <tr>\n",
       "      <th>Social support</th>\n",
       "      <td>-0.816125</td>\n",
       "      <td>0.816181</td>\n",
       "      <td>0.768539</td>\n",
       "      <td>1.000000</td>\n",
       "      <td>0.725997</td>\n",
       "      <td>0.449491</td>\n",
       "      <td>0.007695</td>\n",
       "      <td>0.114017</td>\n",
       "    </tr>\n",
       "    <tr>\n",
       "      <th>Healthy life expectancy</th>\n",
       "      <td>-0.807279</td>\n",
       "      <td>0.807275</td>\n",
       "      <td>0.851513</td>\n",
       "      <td>0.725997</td>\n",
       "      <td>1.000000</td>\n",
       "      <td>0.412906</td>\n",
       "      <td>-0.006773</td>\n",
       "      <td>0.165309</td>\n",
       "    </tr>\n",
       "    <tr>\n",
       "      <th>Freedom to make life choices</th>\n",
       "      <td>-0.552014</td>\n",
       "      <td>0.551974</td>\n",
       "      <td>0.393426</td>\n",
       "      <td>0.449491</td>\n",
       "      <td>0.412906</td>\n",
       "      <td>1.000000</td>\n",
       "      <td>0.324146</td>\n",
       "      <td>0.403586</td>\n",
       "    </tr>\n",
       "    <tr>\n",
       "      <th>Generosity</th>\n",
       "      <td>-0.070484</td>\n",
       "      <td>0.070483</td>\n",
       "      <td>-0.041304</td>\n",
       "      <td>0.007695</td>\n",
       "      <td>-0.006773</td>\n",
       "      <td>0.324146</td>\n",
       "      <td>1.000000</td>\n",
       "      <td>0.286171</td>\n",
       "    </tr>\n",
       "    <tr>\n",
       "      <th>Perceptions of corruption</th>\n",
       "      <td>-0.217240</td>\n",
       "      <td>0.217348</td>\n",
       "      <td>0.223203</td>\n",
       "      <td>0.114017</td>\n",
       "      <td>0.165309</td>\n",
       "      <td>0.403586</td>\n",
       "      <td>0.286171</td>\n",
       "      <td>1.000000</td>\n",
       "    </tr>\n",
       "  </tbody>\n",
       "</table>\n",
       "</div>"
      ],
      "text/plain": [
       "                              Overall rank     Score  GDP per capita  \\\n",
       "Overall rank                      1.000000 -0.999999       -0.814430   \n",
       "Score                            -0.999999  1.000000        0.814483   \n",
       "GDP per capita                   -0.814430  0.814483        1.000000   \n",
       "Social support                   -0.816125  0.816181        0.768539   \n",
       "Healthy life expectancy          -0.807279  0.807275        0.851513   \n",
       "Freedom to make life choices     -0.552014  0.551974        0.393426   \n",
       "Generosity                       -0.070484  0.070483       -0.041304   \n",
       "Perceptions of corruption        -0.217240  0.217348        0.223203   \n",
       "\n",
       "                              Social support  Healthy life expectancy  \\\n",
       "Overall rank                       -0.816125                -0.807279   \n",
       "Score                               0.816181                 0.807275   \n",
       "GDP per capita                      0.768539                 0.851513   \n",
       "Social support                      1.000000                 0.725997   \n",
       "Healthy life expectancy             0.725997                 1.000000   \n",
       "Freedom to make life choices        0.449491                 0.412906   \n",
       "Generosity                          0.007695                -0.006773   \n",
       "Perceptions of corruption           0.114017                 0.165309   \n",
       "\n",
       "                              Freedom to make life choices  Generosity  \\\n",
       "Overall rank                                     -0.552014   -0.070484   \n",
       "Score                                             0.551974    0.070483   \n",
       "GDP per capita                                    0.393426   -0.041304   \n",
       "Social support                                    0.449491    0.007695   \n",
       "Healthy life expectancy                           0.412906   -0.006773   \n",
       "Freedom to make life choices                      1.000000    0.324146   \n",
       "Generosity                                        0.324146    1.000000   \n",
       "Perceptions of corruption                         0.403586    0.286171   \n",
       "\n",
       "                              Perceptions of corruption  \n",
       "Overall rank                                  -0.217240  \n",
       "Score                                          0.217348  \n",
       "GDP per capita                                 0.223203  \n",
       "Social support                                 0.114017  \n",
       "Healthy life expectancy                        0.165309  \n",
       "Freedom to make life choices                   0.403586  \n",
       "Generosity                                     0.286171  \n",
       "Perceptions of corruption                      1.000000  "
      ]
     },
     "execution_count": 34,
     "metadata": {},
     "output_type": "execute_result"
    }
   ],
   "source": [
    "df.corr(method='spearman')"
   ]
  },
  {
   "cell_type": "code",
   "execution_count": 36,
   "metadata": {
    "scrolled": true
   },
   "outputs": [
    {
     "data": {
      "image/png": "[encoded data removed]",
      "text/plain": [
       "<Figure size 720x720 with 2 Axes>"
      ]
     },
     "metadata": {
      "needs_background": "light"
     },
     "output_type": "display_data"
    }
   ],
   "source": [
    "plt.figure(figsize = (10,10))\n",
    "plt.title ('Heatmap Correlation')\n",
    "sns.heatmap (df.corr(method='spearman'), annot = True)\n",
    "plt.savefig('heatmap-cor.jpg')"
   ]
  },
  {
   "cell_type": "markdown",
   "metadata": {},
   "source": [
    "Menurut nilai korelasi :\n",
    "\n",
    "    0.0 - 0.3 : weak\n",
    "    0.3 - 0.7 : medium\n",
    "    0.7 - 1   : strong"
   ]
  },
  {
   "cell_type": "code",
   "execution_count": 39,
   "metadata": {},
   "outputs": [
    {
     "ename": "NameError",
     "evalue": "name 'SM' is not defined",
     "output_type": "error",
     "traceback": [
      "\u001b[0;31m---------------------------------------------------------------------------\u001b[0m",
      "\u001b[0;31mNameError\u001b[0m                                 Traceback (most recent call last)",
      "\u001b[0;32m<ipython-input-39-5b56cef98efb>\u001b[0m in \u001b[0;36m<module>\u001b[0;34m\u001b[0m\n\u001b[0;32m----> 1\u001b[0;31m \u001b[0msns\u001b[0m\u001b[0;34m.\u001b[0m\u001b[0mcountplot\u001b[0m\u001b[0;34m(\u001b[0m\u001b[0mdf\u001b[0m \u001b[0;34m=\u001b[0m \u001b[0mSM\u001b[0m\u001b[0;34m,\u001b[0m \u001b[0mx\u001b[0m \u001b[0;34m=\u001b[0m \u001b[0mSM\u001b[0m\u001b[0;34m[\u001b[0m\u001b[0;34m'Score'\u001b[0m\u001b[0;34m]\u001b[0m\u001b[0;34m)\u001b[0m\u001b[0;34m\u001b[0m\u001b[0;34m\u001b[0m\u001b[0m\n\u001b[0m",
      "\u001b[0;31mNameError\u001b[0m: name 'SM' is not defined"
     ]
    }
   ],
   "source": [
    "sns.countplot(df = SM, x = SM['Score'])"
   ]
  },
  {
   "cell_type": "code",
   "execution_count": null,
   "metadata": {},
   "outputs": [],
   "source": []
  }
 ],
 "metadata": {
  "kernelspec": {
   "display_name": "Python 3",
   "language": "python",
   "name": "python3"
  },
  "language_info": {
   "codemirror_mode": {
    "name": "ipython",
    "version": 3
   },
   "file_extension": ".py",
   "mimetype": "text/x-python",
   "name": "python",
   "nbconvert_exporter": "python",
   "pygments_lexer": "ipython3",
   "version": "3.8.3"
  }
 },
 "nbformat": 4,
 "nbformat_minor": 5
}
